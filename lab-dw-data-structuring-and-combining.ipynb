{
 "cells": [
  {
   "cell_type": "code",
   "execution_count": 2,
   "id": "98605c0c-fddb-4751-b5c1-f0b25b539b31",
   "metadata": {},
   "outputs": [],
   "source": [
    "import pandas as pd"
   ]
  },
  {
   "cell_type": "code",
   "execution_count": 54,
   "id": "492d06e3-92c7-4105-ac72-536db98d3244",
   "metadata": {
    "id": "492d06e3-92c7-4105-ac72-536db98d3244"
   },
   "outputs": [],
   "source": [
    "df1 = pd.read_csv(\"https://raw.githubusercontent.com/data-bootcamp-v4/data/main/file1.csv\")\n",
    "df2 = pd.read_csv(\"https://raw.githubusercontent.com/data-bootcamp-v4/data/main/file2.csv\")\n",
    "df3 = pd.read_csv(\"https://raw.githubusercontent.com/data-bootcamp-v4/data/main/file3.csv\")"
   ]
  },
  {
   "cell_type": "markdown",
   "id": "25d7736c-ba17-4aff-b6bb-66eba20fbf4e",
   "metadata": {
    "id": "25d7736c-ba17-4aff-b6bb-66eba20fbf4e"
   },
   "source": [
    "# Lab | Data Structuring and Combining Data"
   ]
  },
  {
   "cell_type": "markdown",
   "id": "a2cdfc70-44c8-478c-81e7-2bc43fdf4986",
   "metadata": {
    "id": "a2cdfc70-44c8-478c-81e7-2bc43fdf4986"
   },
   "source": [
    "## Challenge 1: Combining & Cleaning Data\n",
    "\n",
    "In this challenge, we will be working with the customer data from an insurance company, as we did in the two previous labs. The data can be found here:\n",
    "- https://raw.githubusercontent.com/data-bootcamp-v4/data/main/file1.csv\n",
    "\n",
    "But this time, we got new data, which can be found in the following 2 CSV files located at the links below.\n",
    "\n",
    "- https://raw.githubusercontent.com/data-bootcamp-v4/data/main/file2.csv\n",
    "- https://raw.githubusercontent.com/data-bootcamp-v4/data/main/file3.csv\n",
    "\n",
    "Note that you'll need to clean and format the new data.\n",
    "\n",
    "Observation:\n",
    "- One option is to first combine the three datasets and then apply the cleaning function to the new combined dataset\n",
    "- Another option would be to read the clean file you saved in the previous lab, and just clean the two new files and concatenate the three clean datasets"
   ]
  },
  {
   "cell_type": "code",
   "execution_count": 56,
   "id": "11162efb-5367-442a-8127-666b5187bc09",
   "metadata": {},
   "outputs": [
    {
     "name": "stdout",
     "output_type": "stream",
     "text": [
      "Customer\n",
      "RB50392    1\n",
      "HJ15383    1\n",
      "AO74776    1\n",
      "HQ82233    1\n",
      "OL72737    1\n",
      "          ..\n",
      "RO26085    1\n",
      "ES57969    1\n",
      "JK55587    1\n",
      "RN97635    1\n",
      "MY31220    1\n",
      "Name: count, Length: 1071, dtype: int64 \n",
      "\n",
      "ST\n",
      "Oregon        320\n",
      "California    211\n",
      "Arizona       186\n",
      "Cali          120\n",
      "Nevada         98\n",
      "Washington     81\n",
      "WA             30\n",
      "AZ             25\n",
      "Name: count, dtype: int64 \n",
      "\n",
      "GENDER\n",
      "F         457\n",
      "M         413\n",
      "Male       39\n",
      "female     28\n",
      "Femal      17\n",
      "Name: count, dtype: int64 \n",
      "\n",
      "Education\n",
      "Bachelor                324\n",
      "College                 313\n",
      "High School or Below    296\n",
      "Master                   94\n",
      "Doctor                   37\n",
      "Bachelors                 7\n",
      "Name: count, dtype: int64 \n",
      "\n",
      "Customer Lifetime Value\n",
      "445811.34%     4\n",
      "251459.20%     4\n",
      "272535.64%     3\n",
      "578018.22%     3\n",
      "684615.03%     3\n",
      "              ..\n",
      "245357.08%     1\n",
      "507566.27%     1\n",
      "321497.94%     1\n",
      "1227534.31%    1\n",
      "899704.02%     1\n",
      "Name: count, Length: 1027, dtype: int64 \n",
      "\n",
      "Income\n",
      "0.0        252\n",
      "43860.0      4\n",
      "17622.0      4\n",
      "36650.0      3\n",
      "14072.0      3\n",
      "          ... \n",
      "29486.0      1\n",
      "58557.0      1\n",
      "25632.0      1\n",
      "18768.0      1\n",
      "54230.0      1\n",
      "Name: count, Length: 774, dtype: int64 \n",
      "\n",
      "Monthly Premium Auto\n",
      "65.0     47\n",
      "63.0     39\n",
      "71.0     37\n",
      "67.0     37\n",
      "73.0     37\n",
      "         ..\n",
      "177.0     1\n",
      "181.0     1\n",
      "276.0     1\n",
      "253.0     1\n",
      "199.0     1\n",
      "Name: count, Length: 132, dtype: int64 \n",
      "\n",
      "Number of Open Complaints\n",
      "1/0/00    830\n",
      "1/1/00    138\n",
      "1/2/00     50\n",
      "1/3/00     34\n",
      "1/4/00     13\n",
      "1/5/00      6\n",
      "Name: count, dtype: int64 \n",
      "\n",
      "Policy Type\n",
      "Personal Auto     780\n",
      "Corporate Auto    234\n",
      "Special Auto       57\n",
      "Name: count, dtype: int64 \n",
      "\n",
      "Vehicle Class\n",
      "Four-Door Car    576\n",
      "Two-Door Car     205\n",
      "SUV              199\n",
      "Sports Car        57\n",
      "Luxury SUV        20\n",
      "Luxury Car        14\n",
      "Name: count, dtype: int64 \n",
      "\n",
      "Total Claim Amount\n",
      "321.600000    19\n",
      "331.200000    15\n",
      "312.000000    14\n",
      "350.400000    14\n",
      "316.800000    12\n",
      "              ..\n",
      "421.484456     1\n",
      "430.505942     1\n",
      "7.646763       1\n",
      "55.510526      1\n",
      "207.320041     1\n",
      "Name: count, Length: 761, dtype: int64 \n",
      "\n"
     ]
    }
   ],
   "source": [
    "columns = list(df1)\n",
    "\n",
    "for column in columns:\n",
    "    print(df1[column].value_counts(),\"\\n\")"
   ]
  },
  {
   "cell_type": "code",
   "execution_count": 58,
   "id": "e89e3db3-4747-43bb-ba4f-76d9d2df46ab",
   "metadata": {},
   "outputs": [],
   "source": [
    "df1 = df1.rename(columns={\"ST\":\"State\", \"GENDER\":\"Gender\"})"
   ]
  },
  {
   "cell_type": "code",
   "execution_count": 60,
   "id": "638185bb-85ec-4409-90a4-15fafaee8bf5",
   "metadata": {},
   "outputs": [],
   "source": [
    "df1 = df1.dropna(how=\"all\")"
   ]
  },
  {
   "cell_type": "code",
   "execution_count": 62,
   "id": "e070fd8e-f34a-405e-bd1c-2e594b0b2f63",
   "metadata": {},
   "outputs": [
    {
     "name": "stdout",
     "output_type": "stream",
     "text": [
      "State\n",
      "Oregon        320\n",
      "California    211\n",
      "Arizona       186\n",
      "Cali          120\n",
      "Nevada         98\n",
      "Washington     81\n",
      "WA             30\n",
      "AZ             25\n",
      "Name: count, dtype: int64 \n",
      "\n",
      "Gender\n",
      "F         457\n",
      "M         413\n",
      "Male       39\n",
      "female     28\n",
      "Femal      17\n",
      "Name: count, dtype: int64 \n",
      "\n",
      "Education\n",
      "Bachelor                324\n",
      "College                 313\n",
      "High School or Below    296\n",
      "Master                   94\n",
      "Doctor                   37\n",
      "Bachelors                 7\n",
      "Name: count, dtype: int64 \n",
      "\n",
      "Customer Lifetime Value\n",
      "445811.34%     4\n",
      "251459.20%     4\n",
      "272535.64%     3\n",
      "578018.22%     3\n",
      "684615.03%     3\n",
      "              ..\n",
      "245357.08%     1\n",
      "507566.27%     1\n",
      "321497.94%     1\n",
      "1227534.31%    1\n",
      "899704.02%     1\n",
      "Name: count, Length: 1027, dtype: int64 \n",
      "\n",
      "Vehicle Class\n",
      "Four-Door Car    576\n",
      "Two-Door Car     205\n",
      "SUV              199\n",
      "Sports Car        57\n",
      "Luxury SUV        20\n",
      "Luxury Car        14\n",
      "Name: count, dtype: int64 \n",
      "\n"
     ]
    }
   ],
   "source": [
    "columns2 = [\"State\", \"Gender\", \"Education\", \"Customer Lifetime Value\", \"Vehicle Class\"]\n",
    "\n",
    "for column in columns2:\n",
    "    print(df1[column].value_counts(),\"\\n\")"
   ]
  },
  {
   "cell_type": "code",
   "execution_count": 64,
   "id": "28ff47b2-0fb5-4b20-986d-c09e108b7c20",
   "metadata": {},
   "outputs": [],
   "source": [
    "df1.State = df1.State.replace({\"Cali\":\"California\", \"WA\":\"Washington\", \"AZ\":\"Arizona\"})"
   ]
  },
  {
   "cell_type": "code",
   "execution_count": 66,
   "id": "b9c1e305-033c-4bf0-816c-11263dd8e43c",
   "metadata": {},
   "outputs": [],
   "source": [
    "df1.Gender = df1.Gender.replace({\"Male\":\"M\", \"female\":\"F\", \"Femal\":\"F\"})"
   ]
  },
  {
   "cell_type": "code",
   "execution_count": 70,
   "id": "91b8e4d4-94eb-454e-bfef-4563a9dd7d0f",
   "metadata": {},
   "outputs": [],
   "source": [
    "df1.Education = df1.Education.replace(\"Bachelors\", \"Bachelor\")"
   ]
  },
  {
   "cell_type": "code",
   "execution_count": 72,
   "id": "fe5e5ce4-d8b4-4cad-89fb-732c2dc71da7",
   "metadata": {},
   "outputs": [],
   "source": [
    "df1[\"Vehicle Class\"] = df1[\"Vehicle Class\"].replace({\"Sports Car\":\"Luxury\", \"Luxury SUV\":\"Luxury\", \"Luxury Car\":\"Luxury\"})"
   ]
  },
  {
   "cell_type": "code",
   "execution_count": 82,
   "id": "d1c2cad7-b302-4b56-b91f-9254d07ec1ca",
   "metadata": {},
   "outputs": [],
   "source": [
    "df1[\"Customer Lifetime Value\"] = df1[\"Customer Lifetime Value\"].str.replace(\"%\",\"\")"
   ]
  },
  {
   "cell_type": "code",
   "execution_count": 84,
   "id": "93c0192b-2e4d-48a7-85b8-d91aad61781b",
   "metadata": {},
   "outputs": [
    {
     "name": "stdout",
     "output_type": "stream",
     "text": [
      "State\n",
      "California    331\n",
      "Oregon        320\n",
      "Arizona       211\n",
      "Washington    111\n",
      "Nevada         98\n",
      "Name: count, dtype: int64 \n",
      "\n",
      "Gender\n",
      "F    502\n",
      "M    452\n",
      "Name: count, dtype: int64 \n",
      "\n",
      "Education\n",
      "Bachelor                331\n",
      "College                 313\n",
      "High School or Below    296\n",
      "Master                   94\n",
      "Doctor                   37\n",
      "Name: count, dtype: int64 \n",
      "\n",
      "Customer Lifetime Value\n",
      "445811.34     4\n",
      "251459.20     4\n",
      "272535.64     3\n",
      "578018.22     3\n",
      "684615.03     3\n",
      "             ..\n",
      "245357.08     1\n",
      "507566.27     1\n",
      "321497.94     1\n",
      "1227534.31    1\n",
      "899704.02     1\n",
      "Name: count, Length: 1027, dtype: int64 \n",
      "\n",
      "Vehicle Class\n",
      "Four-Door Car    576\n",
      "Two-Door Car     205\n",
      "SUV              199\n",
      "Luxury            91\n",
      "Name: count, dtype: int64 \n",
      "\n"
     ]
    }
   ],
   "source": [
    "columns2 = [\"State\", \"Gender\", \"Education\", \"Customer Lifetime Value\", \"Vehicle Class\"]\n",
    "\n",
    "for column in columns2:\n",
    "    print(df1[column].value_counts(),\"\\n\")"
   ]
  },
  {
   "cell_type": "code",
   "execution_count": 116,
   "id": "b7ac6ac7-d55d-4cac-92d4-41b8efeec36d",
   "metadata": {},
   "outputs": [],
   "source": [
    "df1[\"Customer Lifetime Value\"] = df1[\"Customer Lifetime Value\"].astype(float)\n",
    "df1[\"Income\"] = df1[\"Income\"].astype(float)\n",
    "df1[\"Monthly Premium Auto\"] = df1[\"Monthly Premium Auto\"].astype(float)\n",
    "df1[\"Total Claim Amount\"] = df1[\"Total Claim Amount\"].astype(float)"
   ]
  },
  {
   "cell_type": "code",
   "execution_count": 114,
   "id": "9f72cde9-f408-4754-85a6-1d362813a919",
   "metadata": {},
   "outputs": [
    {
     "name": "stdout",
     "output_type": "stream",
     "text": [
      "<class 'pandas.core.frame.DataFrame'>\n",
      "Index: 1071 entries, 0 to 1070\n",
      "Data columns (total 11 columns):\n",
      " #   Column                     Non-Null Count  Dtype  \n",
      "---  ------                     --------------  -----  \n",
      " 0   Customer                   1071 non-null   object \n",
      " 1   State                      1071 non-null   object \n",
      " 2   Gender                     954 non-null    object \n",
      " 3   Education                  1071 non-null   object \n",
      " 4   Customer Lifetime Value    1068 non-null   float64\n",
      " 5   Income                     1071 non-null   float64\n",
      " 6   Monthly Premium Auto       1071 non-null   float64\n",
      " 7   Number of Open Complaints  1071 non-null   object \n",
      " 8   Policy Type                1071 non-null   object \n",
      " 9   Vehicle Class              1071 non-null   object \n",
      " 10  Total Claim Amount         1071 non-null   float64\n",
      "dtypes: float64(4), object(7)\n",
      "memory usage: 100.4+ KB\n"
     ]
    }
   ],
   "source": [
    "df1.info()"
   ]
  },
  {
   "cell_type": "code",
   "execution_count": 118,
   "id": "0d6b58bc-1723-48ca-befb-da4e18164cd2",
   "metadata": {},
   "outputs": [
    {
     "data": {
      "text/plain": [
       "Customer                       0\n",
       "State                          0\n",
       "Gender                       117\n",
       "Education                      0\n",
       "Customer Lifetime Value        3\n",
       "Income                         0\n",
       "Monthly Premium Auto           0\n",
       "Number of Open Complaints      0\n",
       "Policy Type                    0\n",
       "Vehicle Class                  0\n",
       "Total Claim Amount             0\n",
       "dtype: int64"
      ]
     },
     "execution_count": 118,
     "metadata": {},
     "output_type": "execute_result"
    }
   ],
   "source": [
    "df1.isna().sum()"
   ]
  },
  {
   "cell_type": "code",
   "execution_count": 120,
   "id": "ae4c8d29-3df1-4f87-9953-909b46a70ec4",
   "metadata": {},
   "outputs": [
    {
     "data": {
      "text/html": [
       "<div>\n",
       "<style scoped>\n",
       "    .dataframe tbody tr th:only-of-type {\n",
       "        vertical-align: middle;\n",
       "    }\n",
       "\n",
       "    .dataframe tbody tr th {\n",
       "        vertical-align: top;\n",
       "    }\n",
       "\n",
       "    .dataframe thead th {\n",
       "        text-align: right;\n",
       "    }\n",
       "</style>\n",
       "<table border=\"1\" class=\"dataframe\">\n",
       "  <thead>\n",
       "    <tr style=\"text-align: right;\">\n",
       "      <th></th>\n",
       "      <th>Customer</th>\n",
       "      <th>State</th>\n",
       "      <th>Gender</th>\n",
       "      <th>Education</th>\n",
       "      <th>Customer Lifetime Value</th>\n",
       "      <th>Income</th>\n",
       "      <th>Monthly Premium Auto</th>\n",
       "      <th>Number of Open Complaints</th>\n",
       "      <th>Policy Type</th>\n",
       "      <th>Vehicle Class</th>\n",
       "      <th>Total Claim Amount</th>\n",
       "    </tr>\n",
       "  </thead>\n",
       "  <tbody>\n",
       "    <tr>\n",
       "      <th>0</th>\n",
       "      <td>RB50392</td>\n",
       "      <td>Washington</td>\n",
       "      <td>NaN</td>\n",
       "      <td>Master</td>\n",
       "      <td>NaN</td>\n",
       "      <td>0.0</td>\n",
       "      <td>1000.0</td>\n",
       "      <td>1/0/00</td>\n",
       "      <td>Personal Auto</td>\n",
       "      <td>Four-Door Car</td>\n",
       "      <td>2.704934</td>\n",
       "    </tr>\n",
       "    <tr>\n",
       "      <th>78</th>\n",
       "      <td>SP81997</td>\n",
       "      <td>Washington</td>\n",
       "      <td>F</td>\n",
       "      <td>Master</td>\n",
       "      <td>NaN</td>\n",
       "      <td>41275.0</td>\n",
       "      <td>96.0</td>\n",
       "      <td>1/0/00</td>\n",
       "      <td>Personal Auto</td>\n",
       "      <td>Four-Door Car</td>\n",
       "      <td>41.122303</td>\n",
       "    </tr>\n",
       "    <tr>\n",
       "      <th>988</th>\n",
       "      <td>GT62080</td>\n",
       "      <td>Washington</td>\n",
       "      <td>M</td>\n",
       "      <td>High School or Below</td>\n",
       "      <td>NaN</td>\n",
       "      <td>55561.0</td>\n",
       "      <td>63.0</td>\n",
       "      <td>1/0/00</td>\n",
       "      <td>Personal Auto</td>\n",
       "      <td>Four-Door Car</td>\n",
       "      <td>227.872071</td>\n",
       "    </tr>\n",
       "  </tbody>\n",
       "</table>\n",
       "</div>"
      ],
      "text/plain": [
       "    Customer       State Gender             Education  \\\n",
       "0    RB50392  Washington    NaN                Master   \n",
       "78   SP81997  Washington      F                Master   \n",
       "988  GT62080  Washington      M  High School or Below   \n",
       "\n",
       "     Customer Lifetime Value   Income  Monthly Premium Auto  \\\n",
       "0                        NaN      0.0                1000.0   \n",
       "78                       NaN  41275.0                  96.0   \n",
       "988                      NaN  55561.0                  63.0   \n",
       "\n",
       "    Number of Open Complaints    Policy Type  Vehicle Class  \\\n",
       "0                      1/0/00  Personal Auto  Four-Door Car   \n",
       "78                     1/0/00  Personal Auto  Four-Door Car   \n",
       "988                    1/0/00  Personal Auto  Four-Door Car   \n",
       "\n",
       "     Total Claim Amount  \n",
       "0              2.704934  \n",
       "78            41.122303  \n",
       "988          227.872071  "
      ]
     },
     "execution_count": 120,
     "metadata": {},
     "output_type": "execute_result"
    }
   ],
   "source": [
    "df1[df1[\"Customer Lifetime Value\"].isna()]"
   ]
  },
  {
   "cell_type": "code",
   "execution_count": 122,
   "id": "805f96bf-fe4b-4cc5-bb13-cda202f83002",
   "metadata": {},
   "outputs": [
    {
     "data": {
      "text/plain": [
       "676736.4223950618"
      ]
     },
     "execution_count": 122,
     "metadata": {},
     "output_type": "execute_result"
    }
   ],
   "source": [
    "df1[(df1[\"Policy Type\"] == \"Personal Auto\") & (df1[\"Vehicle Class\"] == \"Four-Door Car\")][\"Customer Lifetime Value\"].mean()"
   ]
  },
  {
   "cell_type": "code",
   "execution_count": 126,
   "id": "6b0a4076-2255-46ca-942d-c8a2f325b77c",
   "metadata": {},
   "outputs": [],
   "source": [
    "df1[\"Customer Lifetime Value\"] = df1[\"Customer Lifetime Value\"].fillna(df1[(df1[\"Policy Type\"] == \"Personal Auto\") & (df1[\"Vehicle Class\"] == \"Four-Door Car\")][\"Customer Lifetime Value\"].mean())"
   ]
  },
  {
   "cell_type": "code",
   "execution_count": 132,
   "id": "fbbbd7a5-208a-4021-b13d-67a53b743b5d",
   "metadata": {},
   "outputs": [],
   "source": [
    "df1[\"Gender\"] = df1[\"Gender\"].bfill()"
   ]
  },
  {
   "cell_type": "code",
   "execution_count": 134,
   "id": "e79375a4-b8dc-4bc5-a722-41e501c1480b",
   "metadata": {},
   "outputs": [
    {
     "data": {
      "text/plain": [
       "Customer                     0\n",
       "State                        0\n",
       "Gender                       0\n",
       "Education                    0\n",
       "Customer Lifetime Value      0\n",
       "Income                       0\n",
       "Monthly Premium Auto         0\n",
       "Number of Open Complaints    0\n",
       "Policy Type                  0\n",
       "Vehicle Class                0\n",
       "Total Claim Amount           0\n",
       "dtype: int64"
      ]
     },
     "execution_count": 134,
     "metadata": {},
     "output_type": "execute_result"
    }
   ],
   "source": [
    "df1.isna().sum()"
   ]
  },
  {
   "cell_type": "code",
   "execution_count": 150,
   "id": "06caccb6-c1e2-4325-8eee-f90fc1cb22ec",
   "metadata": {},
   "outputs": [],
   "source": [
    "df1[\"Number of Open Complaints\"] = df1[\"Number of Open Complaints\"].apply(lambda x: x.split(\"/\")[1]).astype(int)"
   ]
  },
  {
   "cell_type": "code",
   "execution_count": 168,
   "id": "ef89603f-5490-4bd6-988a-b810e739a498",
   "metadata": {},
   "outputs": [],
   "source": [
    "df1[\"Income\"] = df1[\"Income\"].astype(int)\n",
    "df1[\"Monthly Premium Auto\"] = df1[\"Monthly Premium Auto\"].astype(int)"
   ]
  },
  {
   "cell_type": "code",
   "execution_count": 170,
   "id": "1978b4fd-0796-46b8-ba29-f962a2106849",
   "metadata": {},
   "outputs": [
    {
     "name": "stdout",
     "output_type": "stream",
     "text": [
      "<class 'pandas.core.frame.DataFrame'>\n",
      "Index: 1071 entries, 0 to 1070\n",
      "Data columns (total 11 columns):\n",
      " #   Column                     Non-Null Count  Dtype  \n",
      "---  ------                     --------------  -----  \n",
      " 0   Customer                   1071 non-null   object \n",
      " 1   State                      1071 non-null   object \n",
      " 2   Gender                     1071 non-null   object \n",
      " 3   Education                  1071 non-null   object \n",
      " 4   Customer Lifetime Value    1071 non-null   float64\n",
      " 5   Income                     1071 non-null   int32  \n",
      " 6   Monthly Premium Auto       1071 non-null   int32  \n",
      " 7   Number of Open Complaints  1071 non-null   int32  \n",
      " 8   Policy Type                1071 non-null   object \n",
      " 9   Vehicle Class              1071 non-null   object \n",
      " 10  Total Claim Amount         1071 non-null   float64\n",
      "dtypes: float64(2), int32(3), object(6)\n",
      "memory usage: 87.9+ KB\n"
     ]
    }
   ],
   "source": [
    "df1.info()"
   ]
  },
  {
   "cell_type": "code",
   "execution_count": 166,
   "id": "6d9ef362-7e5d-4874-9d9c-26b9d43f22a4",
   "metadata": {},
   "outputs": [
    {
     "name": "stdout",
     "output_type": "stream",
     "text": [
      "<class 'pandas.core.frame.DataFrame'>\n",
      "RangeIndex: 996 entries, 0 to 995\n",
      "Data columns (total 11 columns):\n",
      " #   Column                     Non-Null Count  Dtype  \n",
      "---  ------                     --------------  -----  \n",
      " 0   Customer                   996 non-null    object \n",
      " 1   State                      996 non-null    object \n",
      " 2   Gender                     991 non-null    object \n",
      " 3   Education                  996 non-null    object \n",
      " 4   Customer Lifetime Value    992 non-null    float64\n",
      " 5   Income                     996 non-null    int64  \n",
      " 6   Monthly Premium Auto       996 non-null    int64  \n",
      " 7   Number of Open Complaints  996 non-null    int32  \n",
      " 8   Total Claim Amount         996 non-null    float64\n",
      " 9   Policy Type                996 non-null    object \n",
      " 10  Vehicle Class              996 non-null    object \n",
      "dtypes: float64(2), int32(1), int64(2), object(6)\n",
      "memory usage: 81.8+ KB\n"
     ]
    }
   ],
   "source": [
    "df2.info()"
   ]
  },
  {
   "cell_type": "code",
   "execution_count": 182,
   "id": "a397bb8f-3368-4510-a2ff-e4177683e162",
   "metadata": {},
   "outputs": [
    {
     "data": {
      "text/plain": [
       "Customer                     0\n",
       "State                        0\n",
       "Gender                       0\n",
       "Education                    0\n",
       "Customer Lifetime Value      0\n",
       "Income                       0\n",
       "Monthly Premium Auto         0\n",
       "Number of Open Complaints    0\n",
       "Total Claim Amount           0\n",
       "Policy Type                  0\n",
       "Vehicle Class                0\n",
       "dtype: int64"
      ]
     },
     "execution_count": 182,
     "metadata": {},
     "output_type": "execute_result"
    }
   ],
   "source": [
    "df2.isna().sum()"
   ]
  },
  {
   "cell_type": "code",
   "execution_count": 142,
   "id": "0be4ad14-0379-4d3c-b31a-cf28e13ff942",
   "metadata": {},
   "outputs": [
    {
     "name": "stdout",
     "output_type": "stream",
     "text": [
      "Customer\n",
      "GS98873    1\n",
      "MI62456    1\n",
      "SB50826    1\n",
      "XX29952    1\n",
      "AT93647    1\n",
      "          ..\n",
      "ZI47663    1\n",
      "GO14008    1\n",
      "BC43958    1\n",
      "AI61368    1\n",
      "SA91515    1\n",
      "Name: count, Length: 996, dtype: int64 \n",
      "\n",
      "ST\n",
      "Oregon        303\n",
      "California    277\n",
      "Arizona       142\n",
      "Nevada        125\n",
      "Washington    100\n",
      "AZ             49\n",
      "Name: count, dtype: int64 \n",
      "\n",
      "GENDER\n",
      "F         527\n",
      "M         461\n",
      "female      2\n",
      "Male        1\n",
      "Name: count, dtype: int64 \n",
      "\n",
      "Education\n",
      "College                 311\n",
      "High School or Below    290\n",
      "Bachelor                243\n",
      "Master                   86\n",
      "Doctor                   49\n",
      "Bachelors                17\n",
      "Name: count, dtype: int64 \n",
      "\n",
      "Customer Lifetime Value\n",
      "552821.28%     4\n",
      "600521.48%     3\n",
      "538949.95%     3\n",
      "1203662.05%    3\n",
      "871704.98%     3\n",
      "              ..\n",
      "728503.10%     1\n",
      "1765196.34%    1\n",
      "1702989.34%    1\n",
      "403931.50%     1\n",
      "399258.39%     1\n",
      "Name: count, Length: 950, dtype: int64 \n",
      "\n",
      "Income\n",
      "0        221\n",
      "36088      4\n",
      "26876      4\n",
      "83846      3\n",
      "66429      3\n",
      "        ... \n",
      "21514      1\n",
      "27722      1\n",
      "21506      1\n",
      "10312      1\n",
      "83640      1\n",
      "Name: count, Length: 733, dtype: int64 \n",
      "\n",
      "Monthly Premium Auto\n",
      "66     41\n",
      "71     40\n",
      "61     35\n",
      "67     35\n",
      "72     34\n",
      "       ..\n",
      "194     1\n",
      "287     1\n",
      "142     1\n",
      "297     1\n",
      "143     1\n",
      "Name: count, Length: 126, dtype: int64 \n",
      "\n",
      "Number of Open Complaints\n",
      "1/0/00    796\n",
      "1/1/00    109\n",
      "1/2/00     43\n",
      "1/3/00     26\n",
      "1/4/00     16\n",
      "1/5/00      6\n",
      "Name: count, dtype: int64 \n",
      "\n",
      "Total Claim Amount\n",
      "316.800000    21\n",
      "345.600000    18\n",
      "292.800000    16\n",
      "355.200000    15\n",
      "340.800000    15\n",
      "              ..\n",
      "97.176153      1\n",
      "151.133360     1\n",
      "424.330166     1\n",
      "389.673944     1\n",
      "700.349052     1\n",
      "Name: count, Length: 667, dtype: int64 \n",
      "\n",
      "Policy Type\n",
      "Personal Auto     756\n",
      "Corporate Auto    196\n",
      "Special Auto       44\n",
      "Name: count, dtype: int64 \n",
      "\n",
      "Vehicle Class\n",
      "Four-Door Car    519\n",
      "Two-Door Car     211\n",
      "SUV              174\n",
      "Sports Car        55\n",
      "Luxury SUV        21\n",
      "Luxury Car        16\n",
      "Name: count, dtype: int64 \n",
      "\n"
     ]
    }
   ],
   "source": [
    "df2columns = list(df2)\n",
    "\n",
    "for column in df2columns:\n",
    "    print(df2[column].value_counts(),\"\\n\")"
   ]
  },
  {
   "cell_type": "code",
   "execution_count": 160,
   "id": "f902cdbd-75a5-493a-b249-d68663b21d11",
   "metadata": {},
   "outputs": [],
   "source": [
    "df2 = df2.rename(columns={\"ST\":\"State\", \"GENDER\":\"Gender\"})\n",
    "df2.State = df2.State.replace(\"AZ\", \"Arizona\")\n",
    "df2.Gender = df2.Gender.replace({\"female\":\"F\", \"Male\":\"M\"})\n",
    "df2.Education = df2.Education.replace(\"Bachelors\", \"Bachelor\")\n",
    "df2[\"Customer Lifetime Value\"] = df2[\"Customer Lifetime Value\"].str.replace(\"%\",\"\").astype(float)\n",
    "df2[\"Number of Open Complaints\"] = df2[\"Number of Open Complaints\"].apply(lambda x: x.split(\"/\")[1]).astype(int)\n",
    "df2[\"Vehicle Class\"] = df2[\"Vehicle Class\"].replace({\"Sports Car\":\"Luxury\", \"Luxury SUV\":\"Luxury\", \"Luxury Car\":\"Luxury\"})"
   ]
  },
  {
   "cell_type": "code",
   "execution_count": 172,
   "id": "54565b14-1d01-4c88-8e7e-7dd00d0a2a87",
   "metadata": {},
   "outputs": [],
   "source": [
    "df2[\"Gender\"] = df2[\"Gender\"].bfill()"
   ]
  },
  {
   "cell_type": "code",
   "execution_count": 176,
   "id": "8a0b85f0-3e32-4cad-96fa-d722820a208c",
   "metadata": {},
   "outputs": [
    {
     "data": {
      "text/html": [
       "<div>\n",
       "<style scoped>\n",
       "    .dataframe tbody tr th:only-of-type {\n",
       "        vertical-align: middle;\n",
       "    }\n",
       "\n",
       "    .dataframe tbody tr th {\n",
       "        vertical-align: top;\n",
       "    }\n",
       "\n",
       "    .dataframe thead th {\n",
       "        text-align: right;\n",
       "    }\n",
       "</style>\n",
       "<table border=\"1\" class=\"dataframe\">\n",
       "  <thead>\n",
       "    <tr style=\"text-align: right;\">\n",
       "      <th></th>\n",
       "      <th>Customer</th>\n",
       "      <th>State</th>\n",
       "      <th>Gender</th>\n",
       "      <th>Education</th>\n",
       "      <th>Customer Lifetime Value</th>\n",
       "      <th>Income</th>\n",
       "      <th>Monthly Premium Auto</th>\n",
       "      <th>Number of Open Complaints</th>\n",
       "      <th>Total Claim Amount</th>\n",
       "      <th>Policy Type</th>\n",
       "      <th>Vehicle Class</th>\n",
       "    </tr>\n",
       "  </thead>\n",
       "  <tbody>\n",
       "    <tr>\n",
       "      <th>325</th>\n",
       "      <td>RI52095</td>\n",
       "      <td>Washington</td>\n",
       "      <td>M</td>\n",
       "      <td>High School or Below</td>\n",
       "      <td>NaN</td>\n",
       "      <td>51878</td>\n",
       "      <td>66</td>\n",
       "      <td>1</td>\n",
       "      <td>316.800000</td>\n",
       "      <td>Personal Auto</td>\n",
       "      <td>Four-Door Car</td>\n",
       "    </tr>\n",
       "    <tr>\n",
       "      <th>372</th>\n",
       "      <td>HF88410</td>\n",
       "      <td>Washington</td>\n",
       "      <td>F</td>\n",
       "      <td>High School or Below</td>\n",
       "      <td>NaN</td>\n",
       "      <td>36765</td>\n",
       "      <td>66</td>\n",
       "      <td>1</td>\n",
       "      <td>320.849072</td>\n",
       "      <td>Personal Auto</td>\n",
       "      <td>Four-Door Car</td>\n",
       "    </tr>\n",
       "    <tr>\n",
       "      <th>580</th>\n",
       "      <td>MW80236</td>\n",
       "      <td>Washington</td>\n",
       "      <td>M</td>\n",
       "      <td>Master</td>\n",
       "      <td>NaN</td>\n",
       "      <td>0</td>\n",
       "      <td>70</td>\n",
       "      <td>0</td>\n",
       "      <td>336.000000</td>\n",
       "      <td>Personal Auto</td>\n",
       "      <td>Four-Door Car</td>\n",
       "    </tr>\n",
       "    <tr>\n",
       "      <th>861</th>\n",
       "      <td>TO60700</td>\n",
       "      <td>Washington</td>\n",
       "      <td>F</td>\n",
       "      <td>Bachelor</td>\n",
       "      <td>NaN</td>\n",
       "      <td>25859</td>\n",
       "      <td>74</td>\n",
       "      <td>0</td>\n",
       "      <td>355.200000</td>\n",
       "      <td>Special Auto</td>\n",
       "      <td>Four-Door Car</td>\n",
       "    </tr>\n",
       "  </tbody>\n",
       "</table>\n",
       "</div>"
      ],
      "text/plain": [
       "    Customer       State Gender             Education  \\\n",
       "325  RI52095  Washington      M  High School or Below   \n",
       "372  HF88410  Washington      F  High School or Below   \n",
       "580  MW80236  Washington      M                Master   \n",
       "861  TO60700  Washington      F              Bachelor   \n",
       "\n",
       "     Customer Lifetime Value  Income  Monthly Premium Auto  \\\n",
       "325                      NaN   51878                    66   \n",
       "372                      NaN   36765                    66   \n",
       "580                      NaN       0                    70   \n",
       "861                      NaN   25859                    74   \n",
       "\n",
       "     Number of Open Complaints  Total Claim Amount    Policy Type  \\\n",
       "325                          1          316.800000  Personal Auto   \n",
       "372                          1          320.849072  Personal Auto   \n",
       "580                          0          336.000000  Personal Auto   \n",
       "861                          0          355.200000   Special Auto   \n",
       "\n",
       "     Vehicle Class  \n",
       "325  Four-Door Car  \n",
       "372  Four-Door Car  \n",
       "580  Four-Door Car  \n",
       "861  Four-Door Car  "
      ]
     },
     "execution_count": 176,
     "metadata": {},
     "output_type": "execute_result"
    }
   ],
   "source": [
    "df2[df2[\"Customer Lifetime Value\"].isna()]"
   ]
  },
  {
   "cell_type": "code",
   "execution_count": 180,
   "id": "ec7781c7-ae62-4979-9047-ed6ff71485d6",
   "metadata": {},
   "outputs": [],
   "source": [
    "df2[\"Customer Lifetime Value\"] = df2[\"Customer Lifetime Value\"].fillna(df2[(df2[\"Policy Type\"] == \"Personal Auto\") & (df2[\"Vehicle Class\"] == \"Four-Door Car\")][\"Customer Lifetime Value\"].mean())"
   ]
  },
  {
   "cell_type": "code",
   "execution_count": 194,
   "id": "7438ff6c-86d4-4fe2-8aed-4e813f946d44",
   "metadata": {},
   "outputs": [],
   "source": [
    "df2 = df2.reindex(['Customer', 'State', 'Gender', 'Education', 'Customer Lifetime Value', 'Income', 'Monthly Premium Auto', 'Number of Open Complaints', 'Policy Type', 'Vehicle Class', 'Total Claim Amount'], axis=1)"
   ]
  },
  {
   "cell_type": "code",
   "execution_count": 196,
   "id": "351eb70e-149a-45db-a070-004433c7209a",
   "metadata": {},
   "outputs": [
    {
     "name": "stdout",
     "output_type": "stream",
     "text": [
      "<class 'pandas.core.frame.DataFrame'>\n",
      "RangeIndex: 7070 entries, 0 to 7069\n",
      "Data columns (total 11 columns):\n",
      " #   Column                     Non-Null Count  Dtype  \n",
      "---  ------                     --------------  -----  \n",
      " 0   Customer                   7070 non-null   object \n",
      " 1   State                      7070 non-null   object \n",
      " 2   Customer Lifetime Value    7070 non-null   float64\n",
      " 3   Education                  7070 non-null   object \n",
      " 4   Gender                     7070 non-null   object \n",
      " 5   Income                     7070 non-null   int64  \n",
      " 6   Monthly Premium Auto       7070 non-null   int64  \n",
      " 7   Number of Open Complaints  7070 non-null   int64  \n",
      " 8   Policy Type                7070 non-null   object \n",
      " 9   Total Claim Amount         7070 non-null   float64\n",
      " 10  Vehicle Class              7070 non-null   object \n",
      "dtypes: float64(2), int64(3), object(6)\n",
      "memory usage: 607.7+ KB\n"
     ]
    }
   ],
   "source": [
    "df3.info()"
   ]
  },
  {
   "cell_type": "code",
   "execution_count": 200,
   "id": "898b3088-f229-4248-9d55-b7bed21f7ee0",
   "metadata": {},
   "outputs": [
    {
     "data": {
      "text/plain": [
       "Customer                     0\n",
       "State                        0\n",
       "Customer Lifetime Value      0\n",
       "Education                    0\n",
       "Gender                       0\n",
       "Income                       0\n",
       "Monthly Premium Auto         0\n",
       "Number of Open Complaints    0\n",
       "Policy Type                  0\n",
       "Total Claim Amount           0\n",
       "Vehicle Class                0\n",
       "dtype: int64"
      ]
     },
     "execution_count": 200,
     "metadata": {},
     "output_type": "execute_result"
    }
   ],
   "source": [
    "df3.isna().sum()"
   ]
  },
  {
   "cell_type": "code",
   "execution_count": 206,
   "id": "ca9134d3-2b7c-4983-b266-fbb024ea69c6",
   "metadata": {},
   "outputs": [
    {
     "name": "stdout",
     "output_type": "stream",
     "text": [
      "Customer\n",
      "SA25987    1\n",
      "EO99750    1\n",
      "JM98365    1\n",
      "QI11566    1\n",
      "VG43444    1\n",
      "          ..\n",
      "TR96772    1\n",
      "JU64043    1\n",
      "ZE59592    1\n",
      "FT74388    1\n",
      "Y167826    1\n",
      "Name: count, Length: 7070, dtype: int64 \n",
      "\n",
      "State\n",
      "California    2544\n",
      "Oregon        1978\n",
      "Arizona       1302\n",
      "Nevada         659\n",
      "Washington     587\n",
      "Name: count, dtype: int64 \n",
      "\n",
      "Customer Lifetime Value\n",
      "2647.519741     6\n",
      "2659.705650     6\n",
      "4686.469674     6\n",
      "4270.034394     6\n",
      "13727.799720    6\n",
      "               ..\n",
      "11281.524510    1\n",
      "8759.592518     1\n",
      "4928.001408     1\n",
      "4896.261605     1\n",
      "2611.836866     1\n",
      "Name: count, Length: 6288, dtype: int64 \n",
      "\n",
      "Education\n",
      "Bachelor                2152\n",
      "College                 2058\n",
      "High School or Below    2030\n",
      "Master                   572\n",
      "Doctor                   258\n",
      "Name: count, dtype: int64 \n",
      "\n",
      "Gender\n",
      "F    3576\n",
      "M    3494\n",
      "Name: count, dtype: int64 \n",
      "\n",
      "Income\n",
      "0        1821\n",
      "95697       8\n",
      "74015       6\n",
      "62873       6\n",
      "37876       6\n",
      "         ... \n",
      "80797       1\n",
      "89410       1\n",
      "52728       1\n",
      "43199       1\n",
      "21941       1\n",
      "Name: count, Length: 4463, dtype: int64 \n",
      "\n",
      "Monthly Premium Auto\n",
      "65     270\n",
      "66     237\n",
      "73     233\n",
      "71     227\n",
      "63     223\n",
      "      ... \n",
      "284      1\n",
      "231      1\n",
      "296      1\n",
      "235      1\n",
      "142      1\n",
      "Name: count, Length: 194, dtype: int64 \n",
      "\n",
      "Number of Open Complaints\n",
      "0    5629\n",
      "1     765\n",
      "2     283\n",
      "3     230\n",
      "4     119\n",
      "5      44\n",
      "Name: count, dtype: int64 \n",
      "\n",
      "Policy Type\n",
      "Personal Auto     5256\n",
      "Corporate Auto    1535\n",
      "Special Auto       279\n",
      "Name: count, dtype: int64 \n",
      "\n",
      "Total Claim Amount\n",
      "316.800000    86\n",
      "312.000000    85\n",
      "292.800000    84\n",
      "302.400000    79\n",
      "350.400000    78\n",
      "              ..\n",
      "324.695555     1\n",
      "696.034509     1\n",
      "930.594707     1\n",
      "36.980596      1\n",
      "790.784983     1\n",
      "Name: count, Length: 4025, dtype: int64 \n",
      "\n",
      "Vehicle Class\n",
      "Four-Door Car    3546\n",
      "Two-Door Car     1480\n",
      "SUV              1401\n",
      "Luxury            643\n",
      "Name: count, dtype: int64 \n",
      "\n"
     ]
    }
   ],
   "source": [
    "df3columns = list(df3)\n",
    "\n",
    "for column in df3columns:\n",
    "    print(df3[column].value_counts(),\"\\n\")"
   ]
  },
  {
   "cell_type": "code",
   "execution_count": 204,
   "id": "17f23ba5-4481-4aa9-b89a-4b0ecc0f974e",
   "metadata": {},
   "outputs": [],
   "source": [
    "df3[\"Vehicle Class\"] = df3[\"Vehicle Class\"].replace({\"Sports Car\":\"Luxury\", \"Luxury SUV\":\"Luxury\", \"Luxury Car\":\"Luxury\"})"
   ]
  },
  {
   "cell_type": "code",
   "execution_count": 208,
   "id": "0450babb-2591-436b-87ee-b0146791c281",
   "metadata": {},
   "outputs": [],
   "source": [
    "df3 = df3.reindex(['Customer', 'State', 'Gender', 'Education', 'Customer Lifetime Value', 'Income', 'Monthly Premium Auto', 'Number of Open Complaints', 'Policy Type', 'Vehicle Class', 'Total Claim Amount'], axis=1)"
   ]
  },
  {
   "cell_type": "code",
   "execution_count": 210,
   "id": "93f42ad1-9ee3-4376-8606-418faff2c450",
   "metadata": {},
   "outputs": [
    {
     "name": "stdout",
     "output_type": "stream",
     "text": [
      "<class 'pandas.core.frame.DataFrame'>\n",
      "Index: 1071 entries, 0 to 1070\n",
      "Data columns (total 11 columns):\n",
      " #   Column                     Non-Null Count  Dtype  \n",
      "---  ------                     --------------  -----  \n",
      " 0   Customer                   1071 non-null   object \n",
      " 1   State                      1071 non-null   object \n",
      " 2   Gender                     1071 non-null   object \n",
      " 3   Education                  1071 non-null   object \n",
      " 4   Customer Lifetime Value    1071 non-null   float64\n",
      " 5   Income                     1071 non-null   int32  \n",
      " 6   Monthly Premium Auto       1071 non-null   int32  \n",
      " 7   Number of Open Complaints  1071 non-null   int32  \n",
      " 8   Policy Type                1071 non-null   object \n",
      " 9   Vehicle Class              1071 non-null   object \n",
      " 10  Total Claim Amount         1071 non-null   float64\n",
      "dtypes: float64(2), int32(3), object(6)\n",
      "memory usage: 87.9+ KB\n"
     ]
    }
   ],
   "source": [
    "df1.info()"
   ]
  },
  {
   "cell_type": "code",
   "execution_count": 212,
   "id": "a1bb53ba-dbf8-4b03-ab85-1ee417eb7de7",
   "metadata": {},
   "outputs": [
    {
     "name": "stdout",
     "output_type": "stream",
     "text": [
      "<class 'pandas.core.frame.DataFrame'>\n",
      "RangeIndex: 996 entries, 0 to 995\n",
      "Data columns (total 11 columns):\n",
      " #   Column                     Non-Null Count  Dtype  \n",
      "---  ------                     --------------  -----  \n",
      " 0   Customer                   996 non-null    object \n",
      " 1   State                      996 non-null    object \n",
      " 2   Gender                     996 non-null    object \n",
      " 3   Education                  996 non-null    object \n",
      " 4   Customer Lifetime Value    996 non-null    float64\n",
      " 5   Income                     996 non-null    int64  \n",
      " 6   Monthly Premium Auto       996 non-null    int64  \n",
      " 7   Number of Open Complaints  996 non-null    int32  \n",
      " 8   Policy Type                996 non-null    object \n",
      " 9   Vehicle Class              996 non-null    object \n",
      " 10  Total Claim Amount         996 non-null    float64\n",
      "dtypes: float64(2), int32(1), int64(2), object(6)\n",
      "memory usage: 81.8+ KB\n"
     ]
    }
   ],
   "source": [
    "df2.info()"
   ]
  },
  {
   "cell_type": "code",
   "execution_count": 214,
   "id": "9d90708d-e9a8-47ce-a75a-4a030e545ea6",
   "metadata": {},
   "outputs": [
    {
     "name": "stdout",
     "output_type": "stream",
     "text": [
      "<class 'pandas.core.frame.DataFrame'>\n",
      "RangeIndex: 7070 entries, 0 to 7069\n",
      "Data columns (total 11 columns):\n",
      " #   Column                     Non-Null Count  Dtype  \n",
      "---  ------                     --------------  -----  \n",
      " 0   Customer                   7070 non-null   object \n",
      " 1   State                      7070 non-null   object \n",
      " 2   Gender                     7070 non-null   object \n",
      " 3   Education                  7070 non-null   object \n",
      " 4   Customer Lifetime Value    7070 non-null   float64\n",
      " 5   Income                     7070 non-null   int64  \n",
      " 6   Monthly Premium Auto       7070 non-null   int64  \n",
      " 7   Number of Open Complaints  7070 non-null   int64  \n",
      " 8   Policy Type                7070 non-null   object \n",
      " 9   Vehicle Class              7070 non-null   object \n",
      " 10  Total Claim Amount         7070 non-null   float64\n",
      "dtypes: float64(2), int64(3), object(6)\n",
      "memory usage: 607.7+ KB\n"
     ]
    }
   ],
   "source": [
    "df3.info()"
   ]
  },
  {
   "cell_type": "code",
   "execution_count": 216,
   "id": "9e97185a-f168-4652-ad36-adf5eae5f6e7",
   "metadata": {},
   "outputs": [],
   "source": [
    "df_total = pd.concat([df1, df2, df3], ignore_index=True)"
   ]
  },
  {
   "cell_type": "code",
   "execution_count": 218,
   "id": "0ff0e286-6790-4847-b7bb-e62791c98d9b",
   "metadata": {},
   "outputs": [
    {
     "name": "stdout",
     "output_type": "stream",
     "text": [
      "<class 'pandas.core.frame.DataFrame'>\n",
      "RangeIndex: 9137 entries, 0 to 9136\n",
      "Data columns (total 11 columns):\n",
      " #   Column                     Non-Null Count  Dtype  \n",
      "---  ------                     --------------  -----  \n",
      " 0   Customer                   9137 non-null   object \n",
      " 1   State                      9137 non-null   object \n",
      " 2   Gender                     9137 non-null   object \n",
      " 3   Education                  9137 non-null   object \n",
      " 4   Customer Lifetime Value    9137 non-null   float64\n",
      " 5   Income                     9137 non-null   int64  \n",
      " 6   Monthly Premium Auto       9137 non-null   int64  \n",
      " 7   Number of Open Complaints  9137 non-null   int64  \n",
      " 8   Policy Type                9137 non-null   object \n",
      " 9   Vehicle Class              9137 non-null   object \n",
      " 10  Total Claim Amount         9137 non-null   float64\n",
      "dtypes: float64(2), int64(3), object(6)\n",
      "memory usage: 785.3+ KB\n"
     ]
    }
   ],
   "source": [
    "df_total.info()"
   ]
  },
  {
   "cell_type": "code",
   "execution_count": 222,
   "id": "a815f924-9a1f-4d2a-a4a9-e5f941c32de0",
   "metadata": {},
   "outputs": [
    {
     "data": {
      "text/plain": [
       "Customer                     0\n",
       "State                        0\n",
       "Gender                       0\n",
       "Education                    0\n",
       "Customer Lifetime Value      0\n",
       "Income                       0\n",
       "Monthly Premium Auto         0\n",
       "Number of Open Complaints    0\n",
       "Policy Type                  0\n",
       "Vehicle Class                0\n",
       "Total Claim Amount           0\n",
       "dtype: int64"
      ]
     },
     "execution_count": 222,
     "metadata": {},
     "output_type": "execute_result"
    }
   ],
   "source": [
    "df_total.isna().sum()"
   ]
  },
  {
   "cell_type": "code",
   "execution_count": 226,
   "id": "8d2a9472-198f-4b0a-8919-67220222b3ec",
   "metadata": {},
   "outputs": [
    {
     "data": {
      "text/plain": [
       "3"
      ]
     },
     "execution_count": 226,
     "metadata": {},
     "output_type": "execute_result"
    }
   ],
   "source": [
    "df_total.duplicated().sum()"
   ]
  },
  {
   "cell_type": "code",
   "execution_count": 230,
   "id": "d417ae2d-a59b-43e8-b612-ebf1e7cb77d6",
   "metadata": {},
   "outputs": [],
   "source": [
    "df_total = df_total.drop_duplicates()"
   ]
  },
  {
   "cell_type": "code",
   "execution_count": 232,
   "id": "eb1456c8-5e97-4c66-b843-7b8f9eb8b20f",
   "metadata": {},
   "outputs": [
    {
     "data": {
      "text/plain": [
       "0"
      ]
     },
     "execution_count": 232,
     "metadata": {},
     "output_type": "execute_result"
    }
   ],
   "source": [
    "df_total.duplicated().sum()"
   ]
  },
  {
   "cell_type": "code",
   "execution_count": 234,
   "id": "560fe784-5149-4805-8287-caf91dfe8a7b",
   "metadata": {},
   "outputs": [
    {
     "data": {
      "text/html": [
       "<div>\n",
       "<style scoped>\n",
       "    .dataframe tbody tr th:only-of-type {\n",
       "        vertical-align: middle;\n",
       "    }\n",
       "\n",
       "    .dataframe tbody tr th {\n",
       "        vertical-align: top;\n",
       "    }\n",
       "\n",
       "    .dataframe thead th {\n",
       "        text-align: right;\n",
       "    }\n",
       "</style>\n",
       "<table border=\"1\" class=\"dataframe\">\n",
       "  <thead>\n",
       "    <tr style=\"text-align: right;\">\n",
       "      <th></th>\n",
       "      <th>Customer</th>\n",
       "      <th>State</th>\n",
       "      <th>Gender</th>\n",
       "      <th>Education</th>\n",
       "      <th>Customer Lifetime Value</th>\n",
       "      <th>Income</th>\n",
       "      <th>Monthly Premium Auto</th>\n",
       "      <th>Number of Open Complaints</th>\n",
       "      <th>Policy Type</th>\n",
       "      <th>Vehicle Class</th>\n",
       "      <th>Total Claim Amount</th>\n",
       "    </tr>\n",
       "  </thead>\n",
       "  <tbody>\n",
       "    <tr>\n",
       "      <th>0</th>\n",
       "      <td>RB50392</td>\n",
       "      <td>Washington</td>\n",
       "      <td>F</td>\n",
       "      <td>Master</td>\n",
       "      <td>6.767364e+05</td>\n",
       "      <td>0</td>\n",
       "      <td>1000</td>\n",
       "      <td>0</td>\n",
       "      <td>Personal Auto</td>\n",
       "      <td>Four-Door Car</td>\n",
       "      <td>2.704934</td>\n",
       "    </tr>\n",
       "    <tr>\n",
       "      <th>1</th>\n",
       "      <td>QZ44356</td>\n",
       "      <td>Arizona</td>\n",
       "      <td>F</td>\n",
       "      <td>Bachelor</td>\n",
       "      <td>6.979536e+05</td>\n",
       "      <td>0</td>\n",
       "      <td>94</td>\n",
       "      <td>0</td>\n",
       "      <td>Personal Auto</td>\n",
       "      <td>Four-Door Car</td>\n",
       "      <td>1131.464935</td>\n",
       "    </tr>\n",
       "    <tr>\n",
       "      <th>2</th>\n",
       "      <td>AI49188</td>\n",
       "      <td>Nevada</td>\n",
       "      <td>F</td>\n",
       "      <td>Bachelor</td>\n",
       "      <td>1.288743e+06</td>\n",
       "      <td>48767</td>\n",
       "      <td>108</td>\n",
       "      <td>0</td>\n",
       "      <td>Personal Auto</td>\n",
       "      <td>Two-Door Car</td>\n",
       "      <td>566.472247</td>\n",
       "    </tr>\n",
       "    <tr>\n",
       "      <th>3</th>\n",
       "      <td>WW63253</td>\n",
       "      <td>California</td>\n",
       "      <td>M</td>\n",
       "      <td>Bachelor</td>\n",
       "      <td>7.645862e+05</td>\n",
       "      <td>0</td>\n",
       "      <td>106</td>\n",
       "      <td>0</td>\n",
       "      <td>Corporate Auto</td>\n",
       "      <td>SUV</td>\n",
       "      <td>529.881344</td>\n",
       "    </tr>\n",
       "    <tr>\n",
       "      <th>4</th>\n",
       "      <td>GA49547</td>\n",
       "      <td>Washington</td>\n",
       "      <td>M</td>\n",
       "      <td>High School or Below</td>\n",
       "      <td>5.363077e+05</td>\n",
       "      <td>36357</td>\n",
       "      <td>68</td>\n",
       "      <td>0</td>\n",
       "      <td>Personal Auto</td>\n",
       "      <td>Four-Door Car</td>\n",
       "      <td>17.269323</td>\n",
       "    </tr>\n",
       "  </tbody>\n",
       "</table>\n",
       "</div>"
      ],
      "text/plain": [
       "  Customer       State Gender             Education  Customer Lifetime Value  \\\n",
       "0  RB50392  Washington      F                Master             6.767364e+05   \n",
       "1  QZ44356     Arizona      F              Bachelor             6.979536e+05   \n",
       "2  AI49188      Nevada      F              Bachelor             1.288743e+06   \n",
       "3  WW63253  California      M              Bachelor             7.645862e+05   \n",
       "4  GA49547  Washington      M  High School or Below             5.363077e+05   \n",
       "\n",
       "   Income  Monthly Premium Auto  Number of Open Complaints     Policy Type  \\\n",
       "0       0                  1000                          0   Personal Auto   \n",
       "1       0                    94                          0   Personal Auto   \n",
       "2   48767                   108                          0   Personal Auto   \n",
       "3       0                   106                          0  Corporate Auto   \n",
       "4   36357                    68                          0   Personal Auto   \n",
       "\n",
       "   Vehicle Class  Total Claim Amount  \n",
       "0  Four-Door Car            2.704934  \n",
       "1  Four-Door Car         1131.464935  \n",
       "2   Two-Door Car          566.472247  \n",
       "3            SUV          529.881344  \n",
       "4  Four-Door Car           17.269323  "
      ]
     },
     "execution_count": 234,
     "metadata": {},
     "output_type": "execute_result"
    }
   ],
   "source": [
    "df_total.head()"
   ]
  },
  {
   "cell_type": "markdown",
   "id": "31b8a9e7-7db9-4604-991b-ef6771603e57",
   "metadata": {
    "id": "31b8a9e7-7db9-4604-991b-ef6771603e57"
   },
   "source": [
    "# Challenge 2: Structuring Data"
   ]
  },
  {
   "cell_type": "markdown",
   "id": "a877fd6d-7a0c-46d2-9657-f25036e4ca4b",
   "metadata": {
    "id": "a877fd6d-7a0c-46d2-9657-f25036e4ca4b"
   },
   "source": [
    "In this challenge, we will continue to work with customer data from an insurance company, but we will use a dataset with more columns, called marketing_customer_analysis.csv, which can be found at the following link:\n",
    "\n",
    "https://raw.githubusercontent.com/data-bootcamp-v4/data/main/marketing_customer_analysis_clean.csv\n",
    "\n",
    "This dataset contains information such as customer demographics, policy details, vehicle information, and the customer's response to the last marketing campaign. Our goal is to explore and analyze this data by performing data cleaning, formatting, and structuring."
   ]
  },
  {
   "cell_type": "code",
   "execution_count": 4,
   "id": "aa10d9b0-1c27-4d3f-a8e4-db6ab73bfd26",
   "metadata": {
    "id": "aa10d9b0-1c27-4d3f-a8e4-db6ab73bfd26"
   },
   "outputs": [
    {
     "data": {
      "text/html": [
       "<div>\n",
       "<style scoped>\n",
       "    .dataframe tbody tr th:only-of-type {\n",
       "        vertical-align: middle;\n",
       "    }\n",
       "\n",
       "    .dataframe tbody tr th {\n",
       "        vertical-align: top;\n",
       "    }\n",
       "\n",
       "    .dataframe thead th {\n",
       "        text-align: right;\n",
       "    }\n",
       "</style>\n",
       "<table border=\"1\" class=\"dataframe\">\n",
       "  <thead>\n",
       "    <tr style=\"text-align: right;\">\n",
       "      <th></th>\n",
       "      <th>unnamed:_0</th>\n",
       "      <th>customer</th>\n",
       "      <th>state</th>\n",
       "      <th>customer_lifetime_value</th>\n",
       "      <th>response</th>\n",
       "      <th>coverage</th>\n",
       "      <th>education</th>\n",
       "      <th>effective_to_date</th>\n",
       "      <th>employmentstatus</th>\n",
       "      <th>gender</th>\n",
       "      <th>...</th>\n",
       "      <th>number_of_policies</th>\n",
       "      <th>policy_type</th>\n",
       "      <th>policy</th>\n",
       "      <th>renew_offer_type</th>\n",
       "      <th>sales_channel</th>\n",
       "      <th>total_claim_amount</th>\n",
       "      <th>vehicle_class</th>\n",
       "      <th>vehicle_size</th>\n",
       "      <th>vehicle_type</th>\n",
       "      <th>month</th>\n",
       "    </tr>\n",
       "  </thead>\n",
       "  <tbody>\n",
       "    <tr>\n",
       "      <th>0</th>\n",
       "      <td>0</td>\n",
       "      <td>DK49336</td>\n",
       "      <td>Arizona</td>\n",
       "      <td>4809.216960</td>\n",
       "      <td>No</td>\n",
       "      <td>Basic</td>\n",
       "      <td>College</td>\n",
       "      <td>2011-02-18</td>\n",
       "      <td>Employed</td>\n",
       "      <td>M</td>\n",
       "      <td>...</td>\n",
       "      <td>9</td>\n",
       "      <td>Corporate Auto</td>\n",
       "      <td>Corporate L3</td>\n",
       "      <td>Offer3</td>\n",
       "      <td>Agent</td>\n",
       "      <td>292.800000</td>\n",
       "      <td>Four-Door Car</td>\n",
       "      <td>Medsize</td>\n",
       "      <td>A</td>\n",
       "      <td>2</td>\n",
       "    </tr>\n",
       "    <tr>\n",
       "      <th>1</th>\n",
       "      <td>1</td>\n",
       "      <td>KX64629</td>\n",
       "      <td>California</td>\n",
       "      <td>2228.525238</td>\n",
       "      <td>No</td>\n",
       "      <td>Basic</td>\n",
       "      <td>College</td>\n",
       "      <td>2011-01-18</td>\n",
       "      <td>Unemployed</td>\n",
       "      <td>F</td>\n",
       "      <td>...</td>\n",
       "      <td>1</td>\n",
       "      <td>Personal Auto</td>\n",
       "      <td>Personal L3</td>\n",
       "      <td>Offer4</td>\n",
       "      <td>Call Center</td>\n",
       "      <td>744.924331</td>\n",
       "      <td>Four-Door Car</td>\n",
       "      <td>Medsize</td>\n",
       "      <td>A</td>\n",
       "      <td>1</td>\n",
       "    </tr>\n",
       "    <tr>\n",
       "      <th>2</th>\n",
       "      <td>2</td>\n",
       "      <td>LZ68649</td>\n",
       "      <td>Washington</td>\n",
       "      <td>14947.917300</td>\n",
       "      <td>No</td>\n",
       "      <td>Basic</td>\n",
       "      <td>Bachelor</td>\n",
       "      <td>2011-02-10</td>\n",
       "      <td>Employed</td>\n",
       "      <td>M</td>\n",
       "      <td>...</td>\n",
       "      <td>2</td>\n",
       "      <td>Personal Auto</td>\n",
       "      <td>Personal L3</td>\n",
       "      <td>Offer3</td>\n",
       "      <td>Call Center</td>\n",
       "      <td>480.000000</td>\n",
       "      <td>SUV</td>\n",
       "      <td>Medsize</td>\n",
       "      <td>A</td>\n",
       "      <td>2</td>\n",
       "    </tr>\n",
       "    <tr>\n",
       "      <th>3</th>\n",
       "      <td>3</td>\n",
       "      <td>XL78013</td>\n",
       "      <td>Oregon</td>\n",
       "      <td>22332.439460</td>\n",
       "      <td>Yes</td>\n",
       "      <td>Extended</td>\n",
       "      <td>College</td>\n",
       "      <td>2011-01-11</td>\n",
       "      <td>Employed</td>\n",
       "      <td>M</td>\n",
       "      <td>...</td>\n",
       "      <td>2</td>\n",
       "      <td>Corporate Auto</td>\n",
       "      <td>Corporate L3</td>\n",
       "      <td>Offer2</td>\n",
       "      <td>Branch</td>\n",
       "      <td>484.013411</td>\n",
       "      <td>Four-Door Car</td>\n",
       "      <td>Medsize</td>\n",
       "      <td>A</td>\n",
       "      <td>1</td>\n",
       "    </tr>\n",
       "    <tr>\n",
       "      <th>4</th>\n",
       "      <td>4</td>\n",
       "      <td>QA50777</td>\n",
       "      <td>Oregon</td>\n",
       "      <td>9025.067525</td>\n",
       "      <td>No</td>\n",
       "      <td>Premium</td>\n",
       "      <td>Bachelor</td>\n",
       "      <td>2011-01-17</td>\n",
       "      <td>Medical Leave</td>\n",
       "      <td>F</td>\n",
       "      <td>...</td>\n",
       "      <td>7</td>\n",
       "      <td>Personal Auto</td>\n",
       "      <td>Personal L2</td>\n",
       "      <td>Offer1</td>\n",
       "      <td>Branch</td>\n",
       "      <td>707.925645</td>\n",
       "      <td>Four-Door Car</td>\n",
       "      <td>Medsize</td>\n",
       "      <td>A</td>\n",
       "      <td>1</td>\n",
       "    </tr>\n",
       "  </tbody>\n",
       "</table>\n",
       "<p>5 rows × 27 columns</p>\n",
       "</div>"
      ],
      "text/plain": [
       "   unnamed:_0 customer       state  customer_lifetime_value response  \\\n",
       "0           0  DK49336     Arizona              4809.216960       No   \n",
       "1           1  KX64629  California              2228.525238       No   \n",
       "2           2  LZ68649  Washington             14947.917300       No   \n",
       "3           3  XL78013      Oregon             22332.439460      Yes   \n",
       "4           4  QA50777      Oregon              9025.067525       No   \n",
       "\n",
       "   coverage education effective_to_date employmentstatus gender  ...  \\\n",
       "0     Basic   College        2011-02-18         Employed      M  ...   \n",
       "1     Basic   College        2011-01-18       Unemployed      F  ...   \n",
       "2     Basic  Bachelor        2011-02-10         Employed      M  ...   \n",
       "3  Extended   College        2011-01-11         Employed      M  ...   \n",
       "4   Premium  Bachelor        2011-01-17    Medical Leave      F  ...   \n",
       "\n",
       "   number_of_policies     policy_type        policy  renew_offer_type  \\\n",
       "0                   9  Corporate Auto  Corporate L3            Offer3   \n",
       "1                   1   Personal Auto   Personal L3            Offer4   \n",
       "2                   2   Personal Auto   Personal L3            Offer3   \n",
       "3                   2  Corporate Auto  Corporate L3            Offer2   \n",
       "4                   7   Personal Auto   Personal L2            Offer1   \n",
       "\n",
       "   sales_channel  total_claim_amount  vehicle_class  vehicle_size  \\\n",
       "0          Agent          292.800000  Four-Door Car       Medsize   \n",
       "1    Call Center          744.924331  Four-Door Car       Medsize   \n",
       "2    Call Center          480.000000            SUV       Medsize   \n",
       "3         Branch          484.013411  Four-Door Car       Medsize   \n",
       "4         Branch          707.925645  Four-Door Car       Medsize   \n",
       "\n",
       "  vehicle_type month  \n",
       "0            A     2  \n",
       "1            A     1  \n",
       "2            A     2  \n",
       "3            A     1  \n",
       "4            A     1  \n",
       "\n",
       "[5 rows x 27 columns]"
      ]
     },
     "execution_count": 4,
     "metadata": {},
     "output_type": "execute_result"
    }
   ],
   "source": [
    "import pandas as pd\n",
    "mkt_df = pd.read_csv(\"https://raw.githubusercontent.com/data-bootcamp-v4/data/main/marketing_customer_analysis_clean.csv\")\n",
    "mkt_df.head()"
   ]
  },
  {
   "cell_type": "code",
   "execution_count": 10,
   "id": "72c9b5c2-8299-4af6-9f9d-b6fde0b86e85",
   "metadata": {},
   "outputs": [],
   "source": [
    "#mkt_df.isna().sum()"
   ]
  },
  {
   "cell_type": "markdown",
   "id": "df35fd0d-513e-4e77-867e-429da10a9cc7",
   "metadata": {
    "id": "df35fd0d-513e-4e77-867e-429da10a9cc7"
   },
   "source": [
    "1. You work at the marketing department and you want to know which sales channel brought the most sales in terms of total revenue. Using pivot, create a summary table showing the total revenue for each sales channel (branch, call center, web, and mail).\n",
    "Round the total revenue to 2 decimal points.  Analyze the resulting table to draw insights."
   ]
  },
  {
   "cell_type": "code",
   "execution_count": 34,
   "id": "19c6cd36-65e2-463f-aaa9-4d25494f3091",
   "metadata": {},
   "outputs": [
    {
     "data": {
      "text/html": [
       "<div>\n",
       "<style scoped>\n",
       "    .dataframe tbody tr th:only-of-type {\n",
       "        vertical-align: middle;\n",
       "    }\n",
       "\n",
       "    .dataframe tbody tr th {\n",
       "        vertical-align: top;\n",
       "    }\n",
       "\n",
       "    .dataframe thead th {\n",
       "        text-align: right;\n",
       "    }\n",
       "</style>\n",
       "<table border=\"1\" class=\"dataframe\">\n",
       "  <thead>\n",
       "    <tr style=\"text-align: right;\">\n",
       "      <th></th>\n",
       "      <th>count</th>\n",
       "      <th>mean</th>\n",
       "      <th>std</th>\n",
       "      <th>min</th>\n",
       "      <th>25%</th>\n",
       "      <th>50%</th>\n",
       "      <th>75%</th>\n",
       "      <th>max</th>\n",
       "    </tr>\n",
       "    <tr>\n",
       "      <th>sales_channel</th>\n",
       "      <th></th>\n",
       "      <th></th>\n",
       "      <th></th>\n",
       "      <th></th>\n",
       "      <th></th>\n",
       "      <th></th>\n",
       "      <th></th>\n",
       "      <th></th>\n",
       "    </tr>\n",
       "  </thead>\n",
       "  <tbody>\n",
       "    <tr>\n",
       "      <th>Agent</th>\n",
       "      <td>4121.0</td>\n",
       "      <td>8021.812099</td>\n",
       "      <td>6687.472497</td>\n",
       "      <td>1898.01</td>\n",
       "      <td>4160.0200</td>\n",
       "      <td>5849.32</td>\n",
       "      <td>9029.9400</td>\n",
       "      <td>67907.27</td>\n",
       "    </tr>\n",
       "    <tr>\n",
       "      <th>Branch</th>\n",
       "      <td>3022.0</td>\n",
       "      <td>8060.622528</td>\n",
       "      <td>6972.770059</td>\n",
       "      <td>1918.12</td>\n",
       "      <td>3956.6125</td>\n",
       "      <td>5781.02</td>\n",
       "      <td>9101.5625</td>\n",
       "      <td>74228.52</td>\n",
       "    </tr>\n",
       "    <tr>\n",
       "      <th>Call Center</th>\n",
       "      <td>2141.0</td>\n",
       "      <td>8110.363545</td>\n",
       "      <td>7134.944500</td>\n",
       "      <td>1940.98</td>\n",
       "      <td>4045.3400</td>\n",
       "      <td>5729.86</td>\n",
       "      <td>8991.1200</td>\n",
       "      <td>83325.38</td>\n",
       "    </tr>\n",
       "    <tr>\n",
       "      <th>Web</th>\n",
       "      <td>1626.0</td>\n",
       "      <td>7809.122411</td>\n",
       "      <td>6881.947179</td>\n",
       "      <td>1994.77</td>\n",
       "      <td>3729.7000</td>\n",
       "      <td>5619.69</td>\n",
       "      <td>8533.8300</td>\n",
       "      <td>60556.19</td>\n",
       "    </tr>\n",
       "  </tbody>\n",
       "</table>\n",
       "</div>"
      ],
      "text/plain": [
       "                count         mean          std      min        25%      50%  \\\n",
       "sales_channel                                                                  \n",
       "Agent          4121.0  8021.812099  6687.472497  1898.01  4160.0200  5849.32   \n",
       "Branch         3022.0  8060.622528  6972.770059  1918.12  3956.6125  5781.02   \n",
       "Call Center    2141.0  8110.363545  7134.944500  1940.98  4045.3400  5729.86   \n",
       "Web            1626.0  7809.122411  6881.947179  1994.77  3729.7000  5619.69   \n",
       "\n",
       "                     75%       max  \n",
       "sales_channel                       \n",
       "Agent          9029.9400  67907.27  \n",
       "Branch         9101.5625  74228.52  \n",
       "Call Center    8991.1200  83325.38  \n",
       "Web            8533.8300  60556.19  "
      ]
     },
     "execution_count": 34,
     "metadata": {},
     "output_type": "execute_result"
    }
   ],
   "source": [
    "mkt_pivot_df = round(mkt_df.pivot(columns=\"sales_channel\", values = \"customer_lifetime_value\"), 2)\n",
    "mkt_pivot_df.describe().T"
   ]
  },
  {
   "cell_type": "code",
   "execution_count": 78,
   "id": "8ab48564-554c-489a-81b9-71654fd0ff86",
   "metadata": {},
   "outputs": [
    {
     "data": {
      "text/plain": [
       "sales_channel\n",
       "Agent          33057887.85\n",
       "Branch         24359201.21\n",
       "Call Center    17364288.37\n",
       "Web            12697632.90\n",
       "Name: customer_lifetime_value, dtype: float64"
      ]
     },
     "execution_count": 78,
     "metadata": {},
     "output_type": "execute_result"
    }
   ],
   "source": [
    "sales_summary = round(mkt_df.groupby('sales_channel')['customer_lifetime_value'].sum(), 2)\n",
    "sales_summary"
   ]
  },
  {
   "cell_type": "markdown",
   "id": "640993b2-a291-436c-a34d-a551144f8196",
   "metadata": {
    "id": "640993b2-a291-436c-a34d-a551144f8196"
   },
   "source": [
    "2. Create a pivot table that shows the average customer lifetime value per gender and education level. Analyze the resulting table to draw insights."
   ]
  },
  {
   "cell_type": "code",
   "execution_count": 60,
   "id": "d47df632-02a4-47a0-9152-af18d51e2c15",
   "metadata": {},
   "outputs": [
    {
     "data": {
      "text/html": [
       "<div>\n",
       "<style scoped>\n",
       "    .dataframe tbody tr th:only-of-type {\n",
       "        vertical-align: middle;\n",
       "    }\n",
       "\n",
       "    .dataframe tbody tr th {\n",
       "        vertical-align: top;\n",
       "    }\n",
       "\n",
       "    .dataframe thead th {\n",
       "        text-align: right;\n",
       "    }\n",
       "</style>\n",
       "<table border=\"1\" class=\"dataframe\">\n",
       "  <thead>\n",
       "    <tr style=\"text-align: right;\">\n",
       "      <th>education</th>\n",
       "      <th>Bachelor</th>\n",
       "      <th>College</th>\n",
       "      <th>Doctor</th>\n",
       "      <th>High School or Below</th>\n",
       "      <th>Master</th>\n",
       "    </tr>\n",
       "    <tr>\n",
       "      <th>gender</th>\n",
       "      <th></th>\n",
       "      <th></th>\n",
       "      <th></th>\n",
       "      <th></th>\n",
       "      <th></th>\n",
       "    </tr>\n",
       "  </thead>\n",
       "  <tbody>\n",
       "    <tr>\n",
       "      <th>F</th>\n",
       "      <td>7874.27</td>\n",
       "      <td>7748.82</td>\n",
       "      <td>7328.51</td>\n",
       "      <td>8675.22</td>\n",
       "      <td>8157.05</td>\n",
       "    </tr>\n",
       "    <tr>\n",
       "      <th>M</th>\n",
       "      <td>7703.60</td>\n",
       "      <td>8052.46</td>\n",
       "      <td>7415.33</td>\n",
       "      <td>8149.69</td>\n",
       "      <td>8168.83</td>\n",
       "    </tr>\n",
       "  </tbody>\n",
       "</table>\n",
       "</div>"
      ],
      "text/plain": [
       "education  Bachelor  College   Doctor  High School or Below   Master\n",
       "gender                                                              \n",
       "F           7874.27  7748.82  7328.51               8675.22  8157.05\n",
       "M           7703.60  8052.46  7415.33               8149.69  8168.83"
      ]
     },
     "execution_count": 60,
     "metadata": {},
     "output_type": "execute_result"
    }
   ],
   "source": [
    "mkt_pivot2_df = round(mkt_df.pivot_table(index=\"gender\" ,columns=\"education\", values = \"customer_lifetime_value\"), 2)\n",
    "mkt_pivot2_df"
   ]
  },
  {
   "cell_type": "markdown",
   "id": "32c7f2e5-3d90-43e5-be33-9781b6069198",
   "metadata": {
    "id": "32c7f2e5-3d90-43e5-be33-9781b6069198"
   },
   "source": [
    "## Bonus\n",
    "\n",
    "You work at the customer service department and you want to know which months had the highest number of complaints by policy type category. Create a summary table showing the number of complaints by policy type and month.\n",
    "Show it in a long format table."
   ]
  },
  {
   "cell_type": "markdown",
   "id": "e3d09a8f-953c-448a-a5f8-2e5a8cca7291",
   "metadata": {
    "id": "e3d09a8f-953c-448a-a5f8-2e5a8cca7291"
   },
   "source": [
    "*In data analysis, a long format table is a way of structuring data in which each observation or measurement is stored in a separate row of the table. The key characteristic of a long format table is that each column represents a single variable, and each row represents a single observation of that variable.*\n",
    "\n",
    "*More information about long and wide format tables here: https://www.statology.org/long-vs-wide-data/*"
   ]
  },
  {
   "cell_type": "code",
   "execution_count": 72,
   "id": "5ed19544-c975-49eb-847c-c29eb2b3a03d",
   "metadata": {},
   "outputs": [],
   "source": [
    "#list(mkt_df)"
   ]
  },
  {
   "cell_type": "code",
   "execution_count": 74,
   "id": "3a069e0b-b400-470e-904d-d17582191be4",
   "metadata": {
    "id": "3a069e0b-b400-470e-904d-d17582191be4"
   },
   "outputs": [
    {
     "data": {
      "text/html": [
       "<div>\n",
       "<style scoped>\n",
       "    .dataframe tbody tr th:only-of-type {\n",
       "        vertical-align: middle;\n",
       "    }\n",
       "\n",
       "    .dataframe tbody tr th {\n",
       "        vertical-align: top;\n",
       "    }\n",
       "\n",
       "    .dataframe thead th {\n",
       "        text-align: right;\n",
       "    }\n",
       "</style>\n",
       "<table border=\"1\" class=\"dataframe\">\n",
       "  <thead>\n",
       "    <tr style=\"text-align: right;\">\n",
       "      <th>month</th>\n",
       "      <th>1</th>\n",
       "      <th>2</th>\n",
       "    </tr>\n",
       "    <tr>\n",
       "      <th>policy_type</th>\n",
       "      <th></th>\n",
       "      <th></th>\n",
       "    </tr>\n",
       "  </thead>\n",
       "  <tbody>\n",
       "    <tr>\n",
       "      <th>Corporate Auto</th>\n",
       "      <td>0.35</td>\n",
       "      <td>0.35</td>\n",
       "    </tr>\n",
       "    <tr>\n",
       "      <th>Personal Auto</th>\n",
       "      <td>0.40</td>\n",
       "      <td>0.38</td>\n",
       "    </tr>\n",
       "    <tr>\n",
       "      <th>Special Auto</th>\n",
       "      <td>0.37</td>\n",
       "      <td>0.47</td>\n",
       "    </tr>\n",
       "  </tbody>\n",
       "</table>\n",
       "</div>"
      ],
      "text/plain": [
       "month              1     2\n",
       "policy_type               \n",
       "Corporate Auto  0.35  0.35\n",
       "Personal Auto   0.40  0.38\n",
       "Special Auto    0.37  0.47"
      ]
     },
     "execution_count": 74,
     "metadata": {},
     "output_type": "execute_result"
    }
   ],
   "source": [
    "cs_df = round(mkt_df.pivot_table(index=\"policy_type\" ,columns=\"month\", values = \"number_of_open_complaints\"), 2)\n",
    "cs_df"
   ]
  },
  {
   "cell_type": "code",
   "execution_count": 76,
   "id": "7aefe741-e91d-4176-bc7c-20723052ca55",
   "metadata": {},
   "outputs": [
    {
     "data": {
      "text/html": [
       "<div>\n",
       "<style scoped>\n",
       "    .dataframe tbody tr th:only-of-type {\n",
       "        vertical-align: middle;\n",
       "    }\n",
       "\n",
       "    .dataframe tbody tr th {\n",
       "        vertical-align: top;\n",
       "    }\n",
       "\n",
       "    .dataframe thead th {\n",
       "        text-align: right;\n",
       "    }\n",
       "</style>\n",
       "<table border=\"1\" class=\"dataframe\">\n",
       "  <thead>\n",
       "    <tr style=\"text-align: right;\">\n",
       "      <th></th>\n",
       "      <th>policy_type</th>\n",
       "      <th>month</th>\n",
       "      <th>number_of_open_complaints</th>\n",
       "    </tr>\n",
       "  </thead>\n",
       "  <tbody>\n",
       "    <tr>\n",
       "      <th>0</th>\n",
       "      <td>Corporate Auto</td>\n",
       "      <td>1</td>\n",
       "      <td>443.434952</td>\n",
       "    </tr>\n",
       "    <tr>\n",
       "      <th>1</th>\n",
       "      <td>Corporate Auto</td>\n",
       "      <td>2</td>\n",
       "      <td>385.208135</td>\n",
       "    </tr>\n",
       "    <tr>\n",
       "      <th>2</th>\n",
       "      <td>Personal Auto</td>\n",
       "      <td>1</td>\n",
       "      <td>1727.605722</td>\n",
       "    </tr>\n",
       "    <tr>\n",
       "      <th>3</th>\n",
       "      <td>Personal Auto</td>\n",
       "      <td>2</td>\n",
       "      <td>1453.684441</td>\n",
       "    </tr>\n",
       "    <tr>\n",
       "      <th>4</th>\n",
       "      <td>Special Auto</td>\n",
       "      <td>1</td>\n",
       "      <td>87.074049</td>\n",
       "    </tr>\n",
       "    <tr>\n",
       "      <th>5</th>\n",
       "      <td>Special Auto</td>\n",
       "      <td>2</td>\n",
       "      <td>95.226817</td>\n",
       "    </tr>\n",
       "  </tbody>\n",
       "</table>\n",
       "</div>"
      ],
      "text/plain": [
       "      policy_type  month  number_of_open_complaints\n",
       "0  Corporate Auto      1                 443.434952\n",
       "1  Corporate Auto      2                 385.208135\n",
       "2   Personal Auto      1                1727.605722\n",
       "3   Personal Auto      2                1453.684441\n",
       "4    Special Auto      1                  87.074049\n",
       "5    Special Auto      2                  95.226817"
      ]
     },
     "execution_count": 76,
     "metadata": {},
     "output_type": "execute_result"
    }
   ],
   "source": [
    "long_format_complaints = mkt_df.pivot_table(index=[\"policy_type\", \"month\"], values=\"number_of_open_complaints\", aggfunc=\"sum\").reset_index()\n",
    "long_format_complaints"
   ]
  }
 ],
 "metadata": {
  "colab": {
   "provenance": []
  },
  "kernelspec": {
   "display_name": "Python 3 (ipykernel)",
   "language": "python",
   "name": "python3"
  },
  "language_info": {
   "codemirror_mode": {
    "name": "ipython",
    "version": 3
   },
   "file_extension": ".py",
   "mimetype": "text/x-python",
   "name": "python",
   "nbconvert_exporter": "python",
   "pygments_lexer": "ipython3",
   "version": "3.12.4"
  }
 },
 "nbformat": 4,
 "nbformat_minor": 5
}
